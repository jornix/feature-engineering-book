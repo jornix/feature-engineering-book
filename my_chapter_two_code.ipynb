{
 "cells": [
  {
   "cell_type": "markdown",
   "id": "animal-noise",
   "metadata": {},
   "source": [
    "# Log Transform in Action\n",
    "\n",
    "Let’s see how the log transform performs for supervised learning. We’ll use both of the previous datasets here. For the Yelp reviews dataset, we’ll use the number of reviews to predict the average rating of a business (see Example 2-8). For the Mashable news articles, we’ll use the number of words in an article to predict its popularity. Since the outputs are continuous numbers, we’ll use simple linear regression as the model. We use scikit-learn to perform 10-fold cross validation of linear regression on the feature with and without log transformation. The models are evaluated by the R-squared score, which measures how well a trained regression model predicts new data. Good models have high R-squared scores. A perfect model gets the maximum score of 1. The score can be negative, and a bad model can get an arbitrarily low negative score. Using cross validation, we obtain not only an estimate of the score but also a variance, which helps us gauge whether the differences between the two models are meaningful."
   ]
  },
  {
   "cell_type": "markdown",
   "id": "popular-decision",
   "metadata": {},
   "source": [
    "Using log transformed word counts in the Online News Popularity dataset to predict article popularity:"
   ]
  },
  {
   "cell_type": "code",
   "execution_count": 1,
   "id": "included-mouth",
   "metadata": {},
   "outputs": [],
   "source": [
    "import pandas as pd\n",
    "import numpy as np\n",
    "from sklearn import linear_model\n",
    "from sklearn.model_selection import cross_val_score"
   ]
  },
  {
   "cell_type": "code",
   "execution_count": 12,
   "id": "seventh-innocent",
   "metadata": {},
   "outputs": [
    {
     "name": "stderr",
     "output_type": "stream",
     "text": [
      "<ipython-input-12-ea249ddeed75>:1: ParserWarning: Falling back to the 'python' engine because the 'c' engine does not support regex separators (separators > 1 char and different from '\\s+' are interpreted as regex); you can avoid this warning by specifying engine='python'.\n",
      "  df = pd.read_csv(\"data/OnlineNewsPopularity.csv\", delimiter=\", \")\n"
     ]
    },
    {
     "name": "stdout",
     "output_type": "stream",
     "text": [
      "R-squared without log transform: -0.00242 (+/- 0.00509)\n",
      "R-squared with log transform: -0.00114 (+/- 0.00418)\n"
     ]
    }
   ],
   "source": [
    "df = pd.read_csv(\"data/OnlineNewsPopularity.csv\", delimiter=\", \")\n",
    "\n",
    "# Take the log transform of the 'n_tokens_content' feature, which\n",
    "# represents the number of words (tokens) in a news article.\n",
    "df[\"log_n_tokens_content\"] = np.log10(df[\"n_tokens_content\"] + 1)\n",
    "\n",
    "# Train two linear regression models to predict the number of shares\n",
    "# of an article, one using the original feature and the other the\n",
    "# log transformed version.\n",
    "\n",
    "m_orig = linear_model.LinearRegression()\n",
    "scores_orig = cross_val_score(m_orig, df[[\"n_tokens_content\"]], df[\"shares\"], cv=10)\n",
    "\n",
    "m_log = linear_model.LinearRegression()\n",
    "scores_log = cross_val_score(m_log, df[[\"log_n_tokens_content\"]], df[\"shares\"], cv=10)\n",
    "\n",
    "print(\n",
    "    \"R-squared without log transform: %0.5f (+/- %0.5f)\"\n",
    "    % (scores_orig.mean(), scores_orig.std() * 2)\n",
    ")\n",
    "\n",
    "print(\n",
    "    \"R-squared with log transform: %0.5f (+/- %0.5f)\"\n",
    "    % (scores_log.mean(), scores_log.std() * 2)\n",
    ")"
   ]
  },
  {
   "cell_type": "code",
   "execution_count": null,
   "id": "existing-rough",
   "metadata": {},
   "outputs": [],
   "source": []
  }
 ],
 "metadata": {
  "kernelspec": {
   "display_name": "Python 3",
   "language": "python",
   "name": "python3"
  },
  "language_info": {
   "codemirror_mode": {
    "name": "ipython",
    "version": 3
   },
   "file_extension": ".py",
   "mimetype": "text/x-python",
   "name": "python",
   "nbconvert_exporter": "python",
   "pygments_lexer": "ipython3",
   "version": "3.8.5"
  }
 },
 "nbformat": 4,
 "nbformat_minor": 5
}
